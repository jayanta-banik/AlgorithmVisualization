{
 "cells": [
  {
   "cell_type": "markdown",
   "metadata": {},
   "source": [
    "# <center><h1>Visualization of Sorting Algorithms</h1></center>"
   ]
  },
  {
   "cell_type": "code",
   "execution_count": 1,
   "metadata": {},
   "outputs": [],
   "source": [
    "# importing libraries\n",
    "import numpy as np\n",
    "from random import shuffle\n",
    "from matplotlib import pyplot as plt"
   ]
  },
  {
   "cell_type": "markdown",
   "metadata": {},
   "source": [
    "## Defining a functions to plot and save the plots"
   ]
  },
  {
   "cell_type": "code",
   "execution_count": 2,
   "metadata": {},
   "outputs": [],
   "source": [
    "def graphPlotter(data,file_number,name_loc):\n",
    "    #clear cache\n",
    "    x = [i for i in range(len(data))]\n",
    "    plt.clf()\n",
    "    \n",
    "    #plot and save\n",
    "    plt.bar(x,data)\n",
    "    plt.savefig(\"D://data//sorting visual//\" + name_loc + \"//%s.jpg\"%file_number)\n",
    "    plt.clf()"
   ]
  },
  {
   "cell_type": "markdown",
   "metadata": {},
   "source": [
    "## Funtions to implement sorting algorithms"
   ]
  },
  {
   "cell_type": "code",
   "execution_count": 3,
   "metadata": {},
   "outputs": [],
   "source": [
    "# funtion to implement bubble sort algorithm\n",
    "def bubbleSort(arr): \n",
    "    flag = 1  # for storing the number of plots\n",
    "    for i in range(len(arr)-1, 0, -1): # Last i elements are already in place \n",
    "        for j in range(0,i):\n",
    "            if arr[j] > arr[j+1]: \n",
    "                arr[j], arr[j+1] = arr[j+1], arr[j] # swap data \n",
    "                graphPlotter(data,flag,\"bubble\") # plot data\n",
    "                flag += 1                "
   ]
  },
  {
   "cell_type": "code",
   "execution_count": 4,
   "metadata": {},
   "outputs": [],
   "source": [
    "# funtion to implement selection sort algorithm\n",
    "def selectionSort(A):\n",
    "    flag = 1\n",
    "    for i in range(len(A)): \n",
    "        # Find the minimum element in remaining unsorted array \n",
    "        min_idx = i \n",
    "        for j in range(i+1, len(A)): \n",
    "            if A[min_idx] > A[j]: \n",
    "                min_idx = j \n",
    "\n",
    "        # Swap the found minimum element with the i-th element         \n",
    "        A[i], A[min_idx] = A[min_idx], A[i] \n",
    "        graphPlotter(data,flag,\"selection\") \n",
    "        flag += 1"
   ]
  },
  {
   "cell_type": "code",
   "execution_count": 5,
   "metadata": {},
   "outputs": [],
   "source": [
    "# funtion to implement insertion sort algorithm\n",
    "def insertionSort(arr): \n",
    "    flag = 1\n",
    "    # Traverse through 1 to len(arr) \n",
    "    for i in range(1, len(arr)): \n",
    "  \n",
    "        key = arr[i] \n",
    "  \n",
    "        # Move elements of arr[0..i-1], that are \n",
    "        # greater than key, to one position ahead \n",
    "        # of their current position \n",
    "        j = i-1\n",
    "        while j >= 0 and key < arr[j] : \n",
    "                arr[j + 1] = arr[j] \n",
    "                j -= 1\n",
    "                \n",
    "        arr[j + 1] = key \n",
    "        graphPlotter(data,flag,\"insertion\") \n",
    "        flag += 1"
   ]
  },
  {
   "cell_type": "code",
   "execution_count": 6,
   "metadata": {},
   "outputs": [],
   "source": [
    "# funtion to implement merge sort algorithm\n",
    "def mergeSort(arr,rem): \n",
    "    if len(arr) >1: \n",
    "        mid = len(arr)//2 #Finding the mid of the array \n",
    "        L = arr[:mid] # Dividing the array elements  \n",
    "        R = arr[mid:] # into 2 halves \n",
    "  \n",
    "        mergeSort(L,rem) # Sorting the first half \n",
    "        mergeSort(R,rem) # Sorting the second half \n",
    "  \n",
    "        i = j = k = 0\n",
    "          \n",
    "        # Copy data to temp arrays L[] and R[] \n",
    "        while i < len(L) and j < len(R): \n",
    "            if L[i] < R[j]: \n",
    "                arr[k] = L[i] \n",
    "                i+=1\n",
    "            else: \n",
    "                arr[k] = R[j] \n",
    "                j+=1\n",
    "            k+=1\n",
    "          \n",
    "        # Checking if any element was left \n",
    "        while i < len(L): \n",
    "            arr[k] = L[i] \n",
    "            i+=1\n",
    "            k+=1\n",
    "          \n",
    "        while j < len(R): \n",
    "            arr[k] = R[j] \n",
    "            j+=1\n",
    "            k+=1\n",
    "        point = rem.index(L[0])\n",
    "        for i,e in enumerate(arr):\n",
    "            rem[i+point] = e\n",
    "            \n",
    "        graphPlotter(rem[:-1],rem[-1],\"merge\") \n",
    "        rem[-1]+=1\n",
    "        "
   ]
  },
  {
   "cell_type": "code",
   "execution_count": 7,
   "metadata": {},
   "outputs": [],
   "source": [
    "# funtion to implement quick sort algorithm\n",
    "def pivot(data,low,high): \n",
    "    while(True):\n",
    "        flag = 0\n",
    "        while(low<high):\n",
    "            if(data[low]<data[high]):\n",
    "                low+=1\n",
    "            else:\n",
    "                flag = 1\n",
    "                break\n",
    "        if(flag == 0):\n",
    "            return low\n",
    "        data[low],data[high] = data[high],data[low]\n",
    "        graphPlotter(data[:-1],data[-1],\"quick\")\n",
    "        data[-1] += 1\n",
    "        flag = 0\n",
    "        while(high>low):\n",
    "            if(data[high]>data[low]):\n",
    "                high-=1\n",
    "            else:\n",
    "                flag = 1\n",
    "                break\n",
    "        data[low],data[high] = data[high],data[low]\n",
    "        graphPlotter(data[:-1],data[-1],\"quick\")\n",
    "        data[-1] += 1\n",
    "        if(flag == 0):\n",
    "            return high\n",
    "\n",
    "def Qsort(data, low, high):\n",
    "    p = pivot(data,low,high)\n",
    "    if low < high: \n",
    "        Qsort(data,low,p-1)\n",
    "        Qsort(data,p,high)"
   ]
  },
  {
   "cell_type": "code",
   "execution_count": 8,
   "metadata": {},
   "outputs": [],
   "source": [
    "# funtion to implement heap sort algorithm\n",
    "def heapify(arr, n, i): \n",
    "    graphPlotter(arr[:-1],arr[-1],\"heap\")\n",
    "    arr[-1] += 1  \n",
    "    largest = i # Initialize largest as root \n",
    "    l = 2 * i + 1     # left = 2*i + 1 \n",
    "    r = 2 * i + 2     # right = 2*i + 2 \n",
    "  \n",
    "    # See if left child of root exists and is \n",
    "    # greater than root \n",
    "    if l < n and arr[i] < arr[l]: \n",
    "        largest = l \n",
    "  \n",
    "    # See if right child of root exists and is \n",
    "    # greater than root \n",
    "    if r < n and arr[largest] < arr[r]: \n",
    "        largest = r \n",
    "  \n",
    "    # Change root, if needed \n",
    "    if largest != i: \n",
    "        arr[i],arr[largest] = arr[largest],arr[i] # swap \n",
    "  \n",
    "        # Heapify the root. \n",
    "        heapify(arr, n, largest) \n",
    "\n",
    "def heapSort(arr): \n",
    "    n = len(arr) \n",
    "    arr.append(0)\n",
    "  \n",
    "    # Build a maxheap. \n",
    "    for i in range(n, -1, -1): \n",
    "        heapify(arr, n, i) \n",
    "  \n",
    "    # One by one extract elements \n",
    "    for i in range(n-1, 0, -1): \n",
    "        arr[i], arr[0] = arr[0], arr[i] # swap \n",
    "        heapify(arr, i, 0) "
   ]
  },
  {
   "cell_type": "markdown",
   "metadata": {},
   "source": [
    "## Driver code for sorting, ploting and saving"
   ]
  },
  {
   "cell_type": "code",
   "execution_count": 9,
   "metadata": {},
   "outputs": [],
   "source": [
    "# creating a dataset\n",
    "data = list(range(1,25))\n",
    "shuffle(data)"
   ]
  },
  {
   "cell_type": "code",
   "execution_count": 10,
   "metadata": {},
   "outputs": [
    {
     "data": {
      "text/plain": [
       "<Figure size 432x288 with 0 Axes>"
      ]
     },
     "metadata": {},
     "output_type": "display_data"
    }
   ],
   "source": [
    "shuffle(data)\n",
    "bubbleSort(data)"
   ]
  },
  {
   "cell_type": "code",
   "execution_count": 11,
   "metadata": {},
   "outputs": [
    {
     "data": {
      "text/plain": [
       "<Figure size 432x288 with 0 Axes>"
      ]
     },
     "metadata": {},
     "output_type": "display_data"
    }
   ],
   "source": [
    "shuffle(data)\n",
    "selectionSort(data)"
   ]
  },
  {
   "cell_type": "code",
   "execution_count": 12,
   "metadata": {},
   "outputs": [
    {
     "data": {
      "text/plain": [
       "<Figure size 432x288 with 0 Axes>"
      ]
     },
     "metadata": {},
     "output_type": "display_data"
    }
   ],
   "source": [
    "shuffle(data)\n",
    "mergeSort(data,data+[0])"
   ]
  },
  {
   "cell_type": "code",
   "execution_count": 13,
   "metadata": {},
   "outputs": [
    {
     "data": {
      "text/plain": [
       "<Figure size 432x288 with 0 Axes>"
      ]
     },
     "metadata": {},
     "output_type": "display_data"
    }
   ],
   "source": [
    "shuffle(data)\n",
    "insertionSort(data)"
   ]
  },
  {
   "cell_type": "code",
   "execution_count": 14,
   "metadata": {},
   "outputs": [
    {
     "data": {
      "text/plain": [
       "<Figure size 432x288 with 0 Axes>"
      ]
     },
     "metadata": {},
     "output_type": "display_data"
    }
   ],
   "source": [
    "shuffle(data)\n",
    "data.append(0) # adding flag in dataset itself\n",
    "Qsort(data, 0 ,len(data)-2)"
   ]
  },
  {
   "cell_type": "code",
   "execution_count": 15,
   "metadata": {},
   "outputs": [
    {
     "data": {
      "text/plain": [
       "<Figure size 432x288 with 0 Axes>"
      ]
     },
     "metadata": {},
     "output_type": "display_data"
    }
   ],
   "source": [
    "data[-1] = 0 # reset the flag\n",
    "shuffle(data)\n",
    "heapSort(data)"
   ]
  },
  {
   "cell_type": "markdown",
   "metadata": {},
   "source": [
    "______"
   ]
  },
  {
   "cell_type": "markdown",
   "metadata": {},
   "source": [
    "## <u>Conclusion :</u>"
   ]
  },
  {
   "cell_type": "markdown",
   "metadata": {},
   "source": [
    "From plots we can create a video or gif and visualize the working of sorting algorithms.<br>\n",
    "we can see:\n",
    "- The 'bubbling' of largest number in bubble sort\n",
    "- The smooth flow of inserting and shifting of data in insersion sort\n",
    "- The positional sorting of selection sort\n",
    "- Divide and conquer (merge) of merge sort\n",
    "- Divide and conquer (swap) of quick sort \n",
    "- Heapification and then selection in heap sort"
   ]
  }
 ],
 "metadata": {
  "kernelspec": {
   "display_name": "Python 3",
   "language": "python",
   "name": "python3"
  },
  "language_info": {
   "codemirror_mode": {
    "name": "ipython",
    "version": 3
   },
   "file_extension": ".py",
   "mimetype": "text/x-python",
   "name": "python",
   "nbconvert_exporter": "python",
   "pygments_lexer": "ipython3",
   "version": "3.7.3"
  }
 },
 "nbformat": 4,
 "nbformat_minor": 2
}
